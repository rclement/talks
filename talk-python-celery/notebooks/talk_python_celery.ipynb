{
 "cells": [
  {
   "cell_type": "markdown",
   "metadata": {
    "slideshow": {
     "slide_type": "slide"
    }
   },
   "source": [
    "# Talk: Python + Celery\n",
    "\n",
    "**Meetup Python Grenoble - 2019/10/30**\n",
    "\n",
    "_Manage your asynchronous tasks with Celery!_\n",
    "\n",
    "<img src=\"img/banner.png\" width=\"400px\"/>"
   ]
  },
  {
   "cell_type": "markdown",
   "metadata": {
    "slideshow": {
     "slide_type": "slide"
    }
   },
   "source": [
    "# About me\n",
    "\n",
    "<img src=\"img/me.jpg\" width=\"200px\" />\n",
    "\n",
    "## Romain Clement\n",
    "\n",
    "- Meetup Python Grenoble co-organizer\n",
    "- Freelance Software Engineer\n",
    "- CTO @ Sylha (FinTech startup)\n",
    "- [Website](https://romain-clement.net)\n",
    "- [GitHub](https://github.com/rclement)"
   ]
  },
  {
   "cell_type": "markdown",
   "metadata": {
    "slideshow": {
     "slide_type": "slide"
    }
   },
   "source": [
    "# Why asynchronous tasks?"
   ]
  },
  {
   "cell_type": "markdown",
   "metadata": {
    "slideshow": {
     "slide_type": "fragment"
    }
   },
   "source": [
    "More and more use-cases everyday for non-blocking processes:\n",
    "\n",
    "- Sending e-mails (single, batch, scheduled)\n",
    "- Data pipelines (ETL)\n",
    "- Machine learning\n",
    "- Micro-services communication\n",
    "- Logging\n",
    "- ..."
   ]
  },
  {
   "cell_type": "markdown",
   "metadata": {
    "slideshow": {
     "slide_type": "slide"
    }
   },
   "source": [
    "# Is it that hard?"
   ]
  },
  {
   "cell_type": "markdown",
   "metadata": {
    "slideshow": {
     "slide_type": "fragment"
    }
   },
   "source": [
    "Mmmh, kinda, see for yourself:\n",
    "\n",
    "- Concurrence model (threading, etc.)\n",
    "- Result storage (databases, etc.)\n",
    "- Scaling strategy (pool/cluster of workers)\n",
    "- Scheduling (cron-jobs)\n",
    "- Retry on failure strategies\n",
    "- Distributing tasks accross multiple services\n",
    "- Task broadcasting\n",
    "- ..."
   ]
  },
  {
   "cell_type": "markdown",
   "metadata": {
    "slideshow": {
     "slide_type": "slide"
    }
   },
   "source": [
    "# Why Celery?"
   ]
  },
  {
   "cell_type": "markdown",
   "metadata": {
    "slideshow": {
     "slide_type": "fragment"
    }
   },
   "source": [
    "Celery is a Python package abstracting task definitions and invocations, using a _message-broker_ and a _result-backend_ behind the scenes:\n",
    "\n",
    "- Choose a message broker (Redis, RabbitMQ, etc.) and a result backend (Redis, SQLAlchemy, Mongo, etc.), if any\n",
    "- Define your tasks using Python code\n",
    "- Define your cron-jobs using Python code\n",
    "- Define retry on failure strategies for each task\n",
    "- Call your tasks (almost) as a function call!"
   ]
  },
  {
   "cell_type": "markdown",
   "metadata": {
    "slideshow": {
     "slide_type": "slide"
    }
   },
   "source": [
    "# Celery Overview"
   ]
  },
  {
   "cell_type": "markdown",
   "metadata": {
    "slideshow": {
     "slide_type": "fragment"
    }
   },
   "source": [
    "<img src=\"img/overview.png\" width=\"600px\" />"
   ]
  },
  {
   "cell_type": "markdown",
   "metadata": {
    "slideshow": {
     "slide_type": "slide"
    }
   },
   "source": [
    "# Show me some code!"
   ]
  },
  {
   "cell_type": "markdown",
   "metadata": {
    "slideshow": {
     "slide_type": "slide"
    }
   },
   "source": [
    "# Initialize Celery"
   ]
  },
  {
   "cell_type": "code",
   "execution_count": null,
   "metadata": {
    "slideshow": {
     "slide_type": "fragment"
    }
   },
   "outputs": [],
   "source": [
    "import os\n",
    "\n",
    "from typing import Optional\n",
    "from celery import Celery\n",
    "\n",
    "celery_broker_url: Optional[str] = os.environ.get(\"CELERY_BROKER_URL\")\n",
    "celery_result_backend: Optional[str] = os.environ.get(\"CELERY_RESULT_BACKEND\")\n",
    "\n",
    "celery_app: Celery = Celery(\"example\")\n",
    "\n",
    "celery_app.conf.update(\n",
    "    broker_url=celery_broker_url,\n",
    "    result_backend=celery_result_backend,\n",
    ")"
   ]
  },
  {
   "cell_type": "markdown",
   "metadata": {
    "slideshow": {
     "slide_type": "slide"
    }
   },
   "source": [
    "# Define a simple task"
   ]
  },
  {
   "cell_type": "code",
   "execution_count": null,
   "metadata": {
    "slideshow": {
     "slide_type": "fragment"
    }
   },
   "outputs": [],
   "source": [
    "def say_hi(name: str) -> None:\n",
    "    print(f\"Hi, {name}!\")"
   ]
  },
  {
   "cell_type": "code",
   "execution_count": null,
   "metadata": {
    "slideshow": {
     "slide_type": "fragment"
    }
   },
   "outputs": [],
   "source": [
    "celery_app.task(\n",
    "    say_hi,\n",
    "    name=\"tasks.say_hi\",\n",
    "    ignore_result=True,\n",
    ")"
   ]
  },
  {
   "cell_type": "markdown",
   "metadata": {
    "slideshow": {
     "slide_type": "slide"
    }
   },
   "source": [
    "# Call a simple task"
   ]
  },
  {
   "cell_type": "markdown",
   "metadata": {
    "slideshow": {
     "slide_type": "fragment"
    }
   },
   "source": [
    "Start a Celery worker before-hand:\n",
    "\n",
    "```\n",
    "celery worker \\\n",
    "    --app example.celery:celery_app \\\n",
    "    --loglevel=info\n",
    "```"
   ]
  },
  {
   "cell_type": "code",
   "execution_count": null,
   "metadata": {
    "slideshow": {
     "slide_type": "fragment"
    }
   },
   "outputs": [],
   "source": [
    "celery_app.send_task(\"tasks.say_hi\", args=[\"Joe\"])"
   ]
  },
  {
   "cell_type": "markdown",
   "metadata": {
    "slideshow": {
     "slide_type": "slide"
    }
   },
   "source": [
    "# Get a result from a task"
   ]
  },
  {
   "cell_type": "code",
   "execution_count": null,
   "metadata": {
    "slideshow": {
     "slide_type": "fragment"
    }
   },
   "outputs": [],
   "source": [
    "from datetime import datetime\n",
    "\n",
    "def talking_clock() -> datetime:\n",
    "    return datetime.now()"
   ]
  },
  {
   "cell_type": "code",
   "execution_count": null,
   "metadata": {
    "slideshow": {
     "slide_type": "fragment"
    }
   },
   "outputs": [],
   "source": [
    "celery_app.task(\n",
    "    talking_clock,\n",
    "    name=\"tasks.talking_clock\",\n",
    "    ignore_result=False\n",
    ")"
   ]
  },
  {
   "cell_type": "code",
   "execution_count": null,
   "metadata": {
    "slideshow": {
     "slide_type": "fragment"
    }
   },
   "outputs": [],
   "source": [
    "from datetime import datetime\n",
    "from celery.result import AsyncResult\n",
    "\n",
    "talking_clock_task: AsyncResult = celery_app.send_task(\"tasks.talking_clock\")\n",
    "# store `talking_clock_task.id` somewhere for further use"
   ]
  },
  {
   "cell_type": "code",
   "execution_count": null,
   "metadata": {
    "slideshow": {
     "slide_type": "fragment"
    }
   },
   "outputs": [],
   "source": [
    "talking_clock_task_result = AsyncResult(talking_clock_task.id, app=celery_app)\n",
    "now: datetime = talking_clock_task_result.get()\n",
    "\n",
    "print(f\"result: {now}\")"
   ]
  },
  {
   "cell_type": "markdown",
   "metadata": {
    "slideshow": {
     "slide_type": "slide"
    }
   },
   "source": [
    "# Auto-retry failing tasks"
   ]
  },
  {
   "cell_type": "code",
   "execution_count": null,
   "metadata": {
    "slideshow": {
     "slide_type": "fragment"
    }
   },
   "outputs": [],
   "source": [
    "def failing_task() -> None:\n",
    "    raise RuntimeError"
   ]
  },
  {
   "cell_type": "code",
   "execution_count": null,
   "metadata": {
    "slideshow": {
     "slide_type": "fragment"
    }
   },
   "outputs": [],
   "source": [
    "celery_app.task(\n",
    "    failing_task,\n",
    "    name=\"tasks.failing_task\",\n",
    "    ignore_result=True,\n",
    "    autoretry_for=(RuntimeError,),\n",
    "    max_retries=5,\n",
    "    retry_backoff=True,\n",
    "    retry_jitter=True,\n",
    ")"
   ]
  },
  {
   "cell_type": "code",
   "execution_count": null,
   "metadata": {
    "slideshow": {
     "slide_type": "fragment"
    }
   },
   "outputs": [],
   "source": [
    "celery_app.send_task(\"tasks.failing_task\")"
   ]
  },
  {
   "cell_type": "markdown",
   "metadata": {
    "slideshow": {
     "slide_type": "slide"
    }
   },
   "source": [
    "# Scheduling tasks"
   ]
  },
  {
   "cell_type": "code",
   "execution_count": null,
   "metadata": {
    "slideshow": {
     "slide_type": "subslide"
    }
   },
   "outputs": [],
   "source": [
    "def send_report(email: str) -> None:\n",
    "    print(f\"Sending report to {email}\")"
   ]
  },
  {
   "cell_type": "code",
   "execution_count": null,
   "metadata": {
    "slideshow": {
     "slide_type": "fragment"
    }
   },
   "outputs": [],
   "source": [
    "celery_app.task(send_report, name=\"tasks.send_report\", ignore_result=True)"
   ]
  },
  {
   "cell_type": "code",
   "execution_count": null,
   "metadata": {
    "slideshow": {
     "slide_type": "fragment"
    }
   },
   "outputs": [],
   "source": [
    "from celery import Celery, schedules\n",
    "\n",
    "celery_app.conf.update(\n",
    "    enable_utc=True,\n",
    "    timezone=\"UTC\",\n",
    "    beat_schedule={\n",
    "        \"send-report-minutely\": {\n",
    "            \"task\": \"tasks.send_report\",\n",
    "            \"kwargs\": {\"email\": \"admin@domain.com\"},\n",
    "            \"options\": {\"queue\" : \"default\"},\n",
    "            \"schedule\": schedules.crontab(\n",
    "                minute=\"*\",\n",
    "                hour=\"*\",\n",
    "                day_of_week=\"*\",\n",
    "                day_of_month=\"*\",\n",
    "                month_of_year=\"*\",\n",
    "            ),\n",
    "        },\n",
    "    }\n",
    ")"
   ]
  },
  {
   "cell_type": "markdown",
   "metadata": {
    "slideshow": {
     "slide_type": "subslide"
    }
   },
   "source": [
    "Start a Celery beat process (act as an autonomous producer):\n",
    "\n",
    "```\n",
    "celery beat \\\n",
    "    --app example.celery:celery_app \\\n",
    "    --loglevel=info\n",
    "```\n",
    "\n",
    "**Warning**: beware of distributed beat to only have one of the replicas executing tasks! (use alternative implementations)"
   ]
  },
  {
   "cell_type": "markdown",
   "metadata": {
    "slideshow": {
     "slide_type": "slide"
    }
   },
   "source": [
    "# Splitting tasks in queues"
   ]
  },
  {
   "cell_type": "markdown",
   "metadata": {
    "slideshow": {
     "slide_type": "fragment"
    }
   },
   "source": [
    "When starting a Celery worker, specify which queues to listen to:\n",
    "\n",
    "```\n",
    "celery worker \\\n",
    "    --app example.celery:celery_app \\\n",
    "    --queues=mailing,broadcast \\\n",
    "    --loglevel=info\n",
    "```"
   ]
  },
  {
   "cell_type": "code",
   "execution_count": null,
   "metadata": {
    "slideshow": {
     "slide_type": "fragment"
    }
   },
   "outputs": [],
   "source": [
    "celery_app.send_task(\n",
    "    \"mailing.send_email\",\n",
    "    queue=\"mailing\",\n",
    "    kwargs={\"to\": \"joe@doe.com\"}\n",
    ")"
   ]
  },
  {
   "cell_type": "code",
   "execution_count": null,
   "metadata": {
    "slideshow": {
     "slide_type": "fragment"
    }
   },
   "outputs": [],
   "source": [
    "celery.conf.update(\n",
    "    task_routes={\n",
    "        \"mailing.*\": \"mailing\",\n",
    "    },\n",
    ")"
   ]
  },
  {
   "cell_type": "markdown",
   "metadata": {
    "slideshow": {
     "slide_type": "skip"
    }
   },
   "source": [
    "# Broadcasting tasks"
   ]
  },
  {
   "cell_type": "markdown",
   "metadata": {
    "slideshow": {
     "slide_type": "slide"
    }
   },
   "source": [
    "# Pipelining tasks"
   ]
  },
  {
   "cell_type": "markdown",
   "metadata": {
    "slideshow": {
     "slide_type": "subslide"
    }
   },
   "source": [
    "Lots of possible workflows using the \"canvas\" feature, but the main ones are:\n",
    "    \n",
    "- `chain`: chain tasks (with or without passing arguments)\n",
    "- `group`: parallelize tasks\n",
    "- `chord`: parallelize then executing a finalizing task\n",
    "\n",
    "**Eliminates the problem of a tasks wanting to call/wait other tasks!**"
   ]
  },
  {
   "cell_type": "code",
   "execution_count": null,
   "metadata": {
    "slideshow": {
     "slide_type": "subslide"
    }
   },
   "outputs": [],
   "source": [
    "class User:\n",
    "    name: str\n",
    "    email: str\n",
    "\n",
    "def get_all_users() -> List[User]:\n",
    "    return [\n",
    "        User(name=\"John Doe\", email=\"john@doe.com\"),\n",
    "        User(name=\"Jane Doe\", email=\"jane@doe.com\"),\n",
    "    ]\n",
    "\n",
    "celery_app.task(\n",
    "    get_all_users,\n",
    "    name=\"users.get_all\",\n",
    "    ignore_result=False\n",
    ")"
   ]
  },
  {
   "cell_type": "code",
   "execution_count": null,
   "metadata": {
    "slideshow": {
     "slide_type": "subslide"
    }
   },
   "outputs": [],
   "source": [
    "def send_newsletter_to_all(all_users: List[User]) -> None:\n",
    "    for u in all_users:\n",
    "        print(f\"Sending newsletter to {u.name}: {u.email}\")\n",
    "    \n",
    "celery_app.task(\n",
    "    send_newsletter_to_all,\n",
    "    name=\"mailing.send_newsletter_to_all\",\n",
    "    ignore_result=True\n",
    ")"
   ]
  },
  {
   "cell_type": "code",
   "execution_count": null,
   "metadata": {
    "slideshow": {
     "slide_type": "subslide"
    }
   },
   "outputs": [],
   "source": [
    "from celery import chain, signature\n",
    "\n",
    "def send_newsletter():\n",
    "    user_sig = signature(\n",
    "        \"users.get_all\",\n",
    "        queue=\"users\"\n",
    "    )\n",
    "    newsletter_sig = signature(\n",
    "        \"mailing.send_newsletter_to_all\",\n",
    "        queue=\"mailing\"\n",
    "    )\n",
    "    task_chain = chain(user_sig | newsletter_sig)\n",
    "    task_chain.apply_async()\n",
    "\n",
    "celery_app.task(\n",
    "    send_newsletter,\n",
    "    name=\"tasks.send_newsletter\",\n",
    "    ignore_result=True\n",
    ")"
   ]
  },
  {
   "cell_type": "markdown",
   "metadata": {
    "slideshow": {
     "slide_type": "slide"
    }
   },
   "source": [
    "# Things to consider\n",
    "\n",
    "- Python only (experimental Node.js client with `node-celery`)\n",
    "- No `asyncio` (`async` / `await`) support for tasks results (coming to `celery >= 5.0.0`)\n",
    "- Some regressions recently introduced either within `celery` or `kombu`, be careful"
   ]
  },
  {
   "cell_type": "markdown",
   "metadata": {
    "slideshow": {
     "slide_type": "slide"
    }
   },
   "source": [
    "# Follow-up\n",
    "\n",
    "- Storing tasks results in SQL/NoSQL database\n",
    "- Testing Celery tasks (mocks)\n",
    "- Monitoring (`flower`)"
   ]
  },
  {
   "cell_type": "markdown",
   "metadata": {
    "slideshow": {
     "slide_type": "slide"
    }
   },
   "source": [
    "# Alternatives\n",
    "\n",
    "- [NATS](https://nats.io)\n",
    "- [Kafka](https://kafka.apache.org)"
   ]
  },
  {
   "cell_type": "markdown",
   "metadata": {
    "slideshow": {
     "slide_type": "slide"
    }
   },
   "source": [
    "# Sources\n",
    "\n",
    "- [Celery Documentation](https://docs.celeryproject.org/en/latest/)\n",
    "- [Orchestrating Background Jobs](https://www.toptal.com/python/orchestrating-celery-python-background-jobs)\n",
    "- [Building Data Flows with Celery and SQLAlchemy](https://www.youtube.com/watch?v=AhIoAMltzVw)"
   ]
  },
  {
   "cell_type": "markdown",
   "metadata": {
    "slideshow": {
     "slide_type": "slide"
    }
   },
   "source": [
    "# Q&A"
   ]
  }
 ],
 "metadata": {
  "celltoolbar": "Slideshow",
  "kernelspec": {
   "display_name": "Python 3",
   "language": "python",
   "name": "python3"
  },
  "language_info": {
   "codemirror_mode": {
    "name": "ipython",
    "version": 3
   },
   "file_extension": ".py",
   "mimetype": "text/x-python",
   "name": "python",
   "nbconvert_exporter": "python",
   "pygments_lexer": "ipython3",
   "version": "3.7.4"
  }
 },
 "nbformat": 4,
 "nbformat_minor": 2
}
